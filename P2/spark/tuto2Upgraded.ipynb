{
 "cells": [
  {
   "cell_type": "code",
   "execution_count": 1,
   "metadata": {},
   "outputs": [],
   "source": [
    "from pyspark import SparkConf, SparkContext\n",
    "from pyspark.sql import SQLContext\n",
    "\n",
    "conf = SparkConf().setAppName(\"test\")\n",
    "sc = SparkContext(conf=conf)\n",
    "                              \n",
    "sqlCtx = SQLContext(sc)\n",
    "df = sqlCtx.read.load('file:///home/fran/Descargas/p2/SplittedWithUpSizing/C1K_no_attacks.csv', \n",
    "                     format='com.databricks.spark.csv', header='true', inferSchema='true')\n",
    "df2 = sqlCtx.read.load('file:///home/fran/Descargas/p2/SplittedWithUpSizing/C1K_attacks.csv', \n",
    "                     format='com.databricks.spark.csv', header='true', inferSchema='true')"
   ]
  },
  {
   "cell_type": "code",
   "execution_count": 2,
   "metadata": {},
   "outputs": [
    {
     "data": {
      "text/plain": [
       "['GyroscopeStat_x_MEAN',\n",
       " 'GyroscopeStat_z_MEAN',\n",
       " 'GyroscopeStat_COV_z_x',\n",
       " 'GyroscopeStat_COV_z_y',\n",
       " 'MagneticField_x_MEAN',\n",
       " 'MagneticField_z_MEAN',\n",
       " 'MagneticField_COV_z_x',\n",
       " 'MagneticField_COV_z_y',\n",
       " 'Pressure_MEAN',\n",
       " 'LinearAcceleration_COV_z_x',\n",
       " 'LinearAcceleration_COV_z_y',\n",
       " 'LinearAcceleration_x_MEAN',\n",
       " 'LinearAcceleration_z_MEAN',\n",
       " 'attack']"
      ]
     },
     "execution_count": 2,
     "metadata": {},
     "output_type": "execute_result"
    }
   ],
   "source": [
    "\n",
    "df2.columns"
   ]
  },
  {
   "cell_type": "code",
   "execution_count": 3,
   "metadata": {},
   "outputs": [
    {
     "name": "stdout",
     "output_type": "stream",
     "text": [
      "root\n",
      " |-- GyroscopeStat_x_MEAN: double (nullable = true)\n",
      " |-- GyroscopeStat_z_MEAN: double (nullable = true)\n",
      " |-- GyroscopeStat_COV_z_x: double (nullable = true)\n",
      " |-- GyroscopeStat_COV_z_y: double (nullable = true)\n",
      " |-- MagneticField_x_MEAN: double (nullable = true)\n",
      " |-- MagneticField_z_MEAN: double (nullable = true)\n",
      " |-- MagneticField_COV_z_x: double (nullable = true)\n",
      " |-- MagneticField_COV_z_y: double (nullable = true)\n",
      " |-- Pressure_MEAN: double (nullable = true)\n",
      " |-- LinearAcceleration_COV_z_x: double (nullable = true)\n",
      " |-- LinearAcceleration_COV_z_y: double (nullable = true)\n",
      " |-- LinearAcceleration_x_MEAN: double (nullable = true)\n",
      " |-- LinearAcceleration_z_MEAN: double (nullable = true)\n",
      " |-- attack: integer (nullable = true)\n",
      "\n"
     ]
    }
   ],
   "source": [
    "df.printSchema()\n"
   ]
  },
  {
   "cell_type": "code",
   "execution_count": 4,
   "metadata": {},
   "outputs": [
    {
     "data": {
      "text/html": [
       "<div>\n",
       "<style scoped>\n",
       "    .dataframe tbody tr th:only-of-type {\n",
       "        vertical-align: middle;\n",
       "    }\n",
       "\n",
       "    .dataframe tbody tr th {\n",
       "        vertical-align: top;\n",
       "    }\n",
       "\n",
       "    .dataframe thead th {\n",
       "        text-align: right;\n",
       "    }\n",
       "</style>\n",
       "<table border=\"1\" class=\"dataframe\">\n",
       "  <thead>\n",
       "    <tr style=\"text-align: right;\">\n",
       "      <th></th>\n",
       "      <th>0</th>\n",
       "      <th>1</th>\n",
       "      <th>2</th>\n",
       "      <th>3</th>\n",
       "      <th>4</th>\n",
       "    </tr>\n",
       "  </thead>\n",
       "  <tbody>\n",
       "    <tr>\n",
       "      <th>summary</th>\n",
       "      <td>count</td>\n",
       "      <td>mean</td>\n",
       "      <td>stddev</td>\n",
       "      <td>min</td>\n",
       "      <td>max</td>\n",
       "    </tr>\n",
       "    <tr>\n",
       "      <th>GyroscopeStat_x_MEAN</th>\n",
       "      <td>1000</td>\n",
       "      <td>-0.007185128809498113</td>\n",
       "      <td>0.02082398943623495</td>\n",
       "      <td>-0.1373611818115172</td>\n",
       "      <td>0.20867960320920675</td>\n",
       "    </tr>\n",
       "    <tr>\n",
       "      <th>GyroscopeStat_z_MEAN</th>\n",
       "      <td>1000</td>\n",
       "      <td>-0.009689064325925242</td>\n",
       "      <td>0.03731235233030993</td>\n",
       "      <td>-0.7951338334444443</td>\n",
       "      <td>0.3676629841275509</td>\n",
       "    </tr>\n",
       "    <tr>\n",
       "      <th>GyroscopeStat_COV_z_x</th>\n",
       "      <td>1000</td>\n",
       "      <td>0.024020996311882387</td>\n",
       "      <td>0.10888640321569676</td>\n",
       "      <td>-0.33563322168617776</td>\n",
       "      <td>1.1033720660545596</td>\n",
       "    </tr>\n",
       "    <tr>\n",
       "      <th>GyroscopeStat_COV_z_y</th>\n",
       "      <td>1000</td>\n",
       "      <td>0.013878322365280468</td>\n",
       "      <td>0.06982765611453817</td>\n",
       "      <td>-0.19471655981661345</td>\n",
       "      <td>1.1975237400173495</td>\n",
       "    </tr>\n",
       "    <tr>\n",
       "      <th>MagneticField_x_MEAN</th>\n",
       "      <td>1000</td>\n",
       "      <td>-501.6594161452575</td>\n",
       "      <td>7290.234309721676</td>\n",
       "      <td>-88245.0</td>\n",
       "      <td>38056.142857142855</td>\n",
       "    </tr>\n",
       "    <tr>\n",
       "      <th>MagneticField_z_MEAN</th>\n",
       "      <td>1000</td>\n",
       "      <td>-375.82058291324614</td>\n",
       "      <td>5505.1958431942985</td>\n",
       "      <td>-93726.0</td>\n",
       "      <td>36405.55555555556</td>\n",
       "    </tr>\n",
       "    <tr>\n",
       "      <th>MagneticField_COV_z_x</th>\n",
       "      <td>1000</td>\n",
       "      <td>7.411439405910629</td>\n",
       "      <td>88.75330330303233</td>\n",
       "      <td>-2310.789677684387</td>\n",
       "      <td>1219.1180844074822</td>\n",
       "    </tr>\n",
       "    <tr>\n",
       "      <th>MagneticField_COV_z_y</th>\n",
       "      <td>1000</td>\n",
       "      <td>11.87434621275917</td>\n",
       "      <td>196.83980574351267</td>\n",
       "      <td>-294.4752870386481</td>\n",
       "      <td>6142.868476277499</td>\n",
       "    </tr>\n",
       "    <tr>\n",
       "      <th>Pressure_MEAN</th>\n",
       "      <td>1000</td>\n",
       "      <td>1948.609518041027</td>\n",
       "      <td>30848.41113764719</td>\n",
       "      <td>921.8236228571428</td>\n",
       "      <td>976485.375</td>\n",
       "    </tr>\n",
       "    <tr>\n",
       "      <th>LinearAcceleration_COV_z_x</th>\n",
       "      <td>1000</td>\n",
       "      <td>-0.10451115537556235</td>\n",
       "      <td>0.8464762464087431</td>\n",
       "      <td>-18.67174255192453</td>\n",
       "      <td>6.987587254546231</td>\n",
       "    </tr>\n",
       "    <tr>\n",
       "      <th>LinearAcceleration_COV_z_y</th>\n",
       "      <td>1000</td>\n",
       "      <td>0.05778283885235627</td>\n",
       "      <td>0.7140674136140673</td>\n",
       "      <td>-9.552760081754462</td>\n",
       "      <td>12.929271254611347</td>\n",
       "    </tr>\n",
       "    <tr>\n",
       "      <th>LinearAcceleration_x_MEAN</th>\n",
       "      <td>1000</td>\n",
       "      <td>-0.1276073676761278</td>\n",
       "      <td>1.3328789804380297</td>\n",
       "      <td>-7.0612960020100495</td>\n",
       "      <td>13.639015043988696</td>\n",
       "    </tr>\n",
       "    <tr>\n",
       "      <th>LinearAcceleration_z_MEAN</th>\n",
       "      <td>1000</td>\n",
       "      <td>1.392181572225367</td>\n",
       "      <td>7.963417726626015</td>\n",
       "      <td>-20.61845029305113</td>\n",
       "      <td>18.72700219843188</td>\n",
       "    </tr>\n",
       "    <tr>\n",
       "      <th>attack</th>\n",
       "      <td>1000</td>\n",
       "      <td>0.0</td>\n",
       "      <td>0.0</td>\n",
       "      <td>0</td>\n",
       "      <td>0</td>\n",
       "    </tr>\n",
       "  </tbody>\n",
       "</table>\n",
       "</div>"
      ],
      "text/plain": [
       "                                0                      1                    2  \\\n",
       "summary                     count                   mean               stddev   \n",
       "GyroscopeStat_x_MEAN         1000  -0.007185128809498113  0.02082398943623495   \n",
       "GyroscopeStat_z_MEAN         1000  -0.009689064325925242  0.03731235233030993   \n",
       "GyroscopeStat_COV_z_x        1000   0.024020996311882387  0.10888640321569676   \n",
       "GyroscopeStat_COV_z_y        1000   0.013878322365280468  0.06982765611453817   \n",
       "MagneticField_x_MEAN         1000     -501.6594161452575    7290.234309721676   \n",
       "MagneticField_z_MEAN         1000    -375.82058291324614   5505.1958431942985   \n",
       "MagneticField_COV_z_x        1000      7.411439405910629    88.75330330303233   \n",
       "MagneticField_COV_z_y        1000      11.87434621275917   196.83980574351267   \n",
       "Pressure_MEAN                1000      1948.609518041027    30848.41113764719   \n",
       "LinearAcceleration_COV_z_x   1000   -0.10451115537556235   0.8464762464087431   \n",
       "LinearAcceleration_COV_z_y   1000    0.05778283885235627   0.7140674136140673   \n",
       "LinearAcceleration_x_MEAN    1000    -0.1276073676761278   1.3328789804380297   \n",
       "LinearAcceleration_z_MEAN    1000      1.392181572225367    7.963417726626015   \n",
       "attack                       1000                    0.0                  0.0   \n",
       "\n",
       "                                               3                    4  \n",
       "summary                                      min                  max  \n",
       "GyroscopeStat_x_MEAN         -0.1373611818115172  0.20867960320920675  \n",
       "GyroscopeStat_z_MEAN         -0.7951338334444443   0.3676629841275509  \n",
       "GyroscopeStat_COV_z_x       -0.33563322168617776   1.1033720660545596  \n",
       "GyroscopeStat_COV_z_y       -0.19471655981661345   1.1975237400173495  \n",
       "MagneticField_x_MEAN                    -88245.0   38056.142857142855  \n",
       "MagneticField_z_MEAN                    -93726.0    36405.55555555556  \n",
       "MagneticField_COV_z_x         -2310.789677684387   1219.1180844074822  \n",
       "MagneticField_COV_z_y         -294.4752870386481    6142.868476277499  \n",
       "Pressure_MEAN                  921.8236228571428           976485.375  \n",
       "LinearAcceleration_COV_z_x    -18.67174255192453    6.987587254546231  \n",
       "LinearAcceleration_COV_z_y    -9.552760081754462   12.929271254611347  \n",
       "LinearAcceleration_x_MEAN    -7.0612960020100495   13.639015043988696  \n",
       "LinearAcceleration_z_MEAN     -20.61845029305113    18.72700219843188  \n",
       "attack                                         0                    0  "
      ]
     },
     "execution_count": 4,
     "metadata": {},
     "output_type": "execute_result"
    }
   ],
   "source": [
    "df.describe().toPandas().transpose()"
   ]
  },
  {
   "cell_type": "code",
   "execution_count": 5,
   "metadata": {},
   "outputs": [
    {
     "data": {
      "text/plain": [
       "(1000, 14, 1000, 798)"
      ]
     },
     "execution_count": 5,
     "metadata": {},
     "output_type": "execute_result"
    }
   ],
   "source": [
    "featureColumns= ['GyroscopeStat_x_MEAN', 'Pressure_MEAN', 'LinearAcceleration_z_MEAN', 'GyroscopeStat_z_MEAN']\n",
    "dfWN=df.na.drop()\n",
    "dfWN.count(), len(dfWN.columns), df.count(), df2.count()"
   ]
  },
  {
   "cell_type": "code",
   "execution_count": 7,
   "metadata": {},
   "outputs": [
    {
     "name": "stdout",
     "output_type": "stream",
     "text": [
      "148 195\n"
     ]
    },
    {
     "data": {
      "text/plain": [
       "343"
      ]
     },
     "execution_count": 7,
     "metadata": {},
     "output_type": "execute_result"
    }
   ],
   "source": [
    "from pyspark.ml.linalg import Vectors\n",
    "from pyspark.ml.feature import VectorAssembler\n",
    "\n",
    "assembler= VectorAssembler (inputCols= featureColumns, outputCol= \"features\")\n",
    "assembled = assembler.transform(df)\n",
    "assembled2 = assembler.transform(df2)\n",
    "\n",
    "(trainingData, testData) = assembled.randomSplit([0.8,0.2], seed= 13234)\n",
    "(trainingData2, testData2) = assembled2.randomSplit([0.8,0.2], seed= 13234)\n",
    "print(testData2.count(), testData.count())\n",
    "\n",
    "\n",
    "trainingData = trainingData.union(trainingData2)\n",
    "testData = testData.union(testData2)\n",
    "testData.count()\n",
    "\n",
    "\n"
   ]
  },
  {
   "cell_type": "code",
   "execution_count": 8,
   "metadata": {},
   "outputs": [],
   "source": [
    "from pyspark.ml.classification import DecisionTreeClassifier\n",
    "dt= DecisionTreeClassifier (labelCol=\"attack\", featuresCol=\"features\",\n",
    "                           maxDepth=5, minInstancesPerNode=20,\n",
    "                           impurity=\"gini\")"
   ]
  },
  {
   "cell_type": "code",
   "execution_count": 9,
   "metadata": {},
   "outputs": [],
   "source": [
    "from pyspark.ml import Pipeline\n",
    "\n",
    "pipeline= Pipeline(stages=[dt])\n",
    "model = pipeline.fit (trainingData)"
   ]
  },
  {
   "cell_type": "code",
   "execution_count": 10,
   "metadata": {},
   "outputs": [],
   "source": [
    "predictions= model.transform(testData)"
   ]
  },
  {
   "cell_type": "code",
   "execution_count": 11,
   "metadata": {},
   "outputs": [
    {
     "name": "stdout",
     "output_type": "stream",
     "text": [
      "+----------+------+\n",
      "|prediction|attack|\n",
      "+----------+------+\n",
      "|       1.0|     0|\n",
      "|       1.0|     0|\n",
      "|       1.0|     0|\n",
      "|       1.0|     0|\n",
      "|       1.0|     0|\n",
      "|       1.0|     0|\n",
      "|       1.0|     0|\n",
      "|       0.0|     0|\n",
      "|       1.0|     0|\n",
      "|       0.0|     0|\n",
      "+----------+------+\n",
      "only showing top 10 rows\n",
      "\n"
     ]
    }
   ],
   "source": [
    "predictions.select(\"prediction\", \"attack\").show(10)"
   ]
  },
  {
   "cell_type": "code",
   "execution_count": 12,
   "metadata": {},
   "outputs": [],
   "source": [
    "predictions.select(\"prediction\", \"attack\").write.save(path=\"file:///home/fran/Descargas/p2/predictionsUp\",format=\"com.databricks.spark.csv\", header=\"true\")"
   ]
  },
  {
   "cell_type": "code",
   "execution_count": 13,
   "metadata": {},
   "outputs": [],
   "source": [
    "\n",
    "predictions=sqlCtx.read.load('file:///home/fran/Descargas/p2/predictionsUp', format='com.databricks.spark.csv', header='true',inferSchema='true')"
   ]
  },
  {
   "cell_type": "code",
   "execution_count": 14,
   "metadata": {},
   "outputs": [
    {
     "name": "stdout",
     "output_type": "stream",
     "text": [
      "+----------+------+\n",
      "|prediction|attack|\n",
      "+----------+------+\n",
      "|       1.0|     0|\n",
      "|       1.0|     0|\n",
      "|       1.0|     0|\n",
      "|       1.0|     0|\n",
      "|       1.0|     0|\n",
      "|       1.0|     0|\n",
      "|       1.0|     0|\n",
      "|       0.0|     0|\n",
      "|       1.0|     0|\n",
      "|       0.0|     0|\n",
      "+----------+------+\n",
      "only showing top 10 rows\n",
      "\n"
     ]
    }
   ],
   "source": [
    "predictions.show(10)"
   ]
  },
  {
   "cell_type": "code",
   "execution_count": 15,
   "metadata": {},
   "outputs": [
    {
     "name": "stdout",
     "output_type": "stream",
     "text": [
      "Acuraccy = 0.723032\n"
     ]
    }
   ],
   "source": [
    "from pyspark.ml.evaluation import MulticlassClassificationEvaluator\n",
    "\n",
    "evaluator = MulticlassClassificationEvaluator( labelCol=\"attack\", predictionCol=\"prediction\", metricName=\"accuracy\")\n",
    "acuracy= evaluator.evaluate(predictions)\n",
    "print(\"Acuraccy = %g\" % (acuracy))\n"
   ]
  },
  {
   "cell_type": "code",
   "execution_count": 16,
   "metadata": {},
   "outputs": [],
   "source": [
    "from pyspark.mllib.evaluation import MulticlassMetrics\n",
    "predictions = (predictions.withColumn(\"attack\", predictions[\"attack\"].cast(\"double\")))\n",
    "metrics= MulticlassMetrics(predictions.rdd.map(tuple))"
   ]
  },
  {
   "cell_type": "code",
   "execution_count": 17,
   "metadata": {},
   "outputs": [
    {
     "data": {
      "text/plain": [
       "array([[160.,  60.],\n",
       "       [ 35.,  88.]])"
      ]
     },
     "execution_count": 17,
     "metadata": {},
     "output_type": "execute_result"
    }
   ],
   "source": [
    "metrics.confusionMatrix().toArray().transpose()"
   ]
  }
 ],
 "metadata": {
  "kernelspec": {
   "display_name": "Python 3",
   "language": "python",
   "name": "python3"
  },
  "language_info": {
   "codemirror_mode": {
    "name": "ipython",
    "version": 3
   },
   "file_extension": ".py",
   "mimetype": "text/x-python",
   "name": "python",
   "nbconvert_exporter": "python",
   "pygments_lexer": "ipython3",
   "version": "3.7.3"
  }
 },
 "nbformat": 4,
 "nbformat_minor": 2
}
